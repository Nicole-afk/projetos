{
  "nbformat": 4,
  "nbformat_minor": 0,
  "metadata": {
    "colab": {
      "provenance": [],
      "authorship_tag": "ABX9TyPnZHbfwLvMd0b2/2ONr+Jl",
      "include_colab_link": true
    },
    "kernelspec": {
      "name": "python3",
      "display_name": "Python 3"
    },
    "language_info": {
      "name": "python"
    }
  },
  "cells": [
    {
      "cell_type": "markdown",
      "metadata": {
        "id": "view-in-github",
        "colab_type": "text"
      },
      "source": [
        "<a href=\"https://colab.research.google.com/github/Nicole-afk/projetos/blob/main/Semana1.ipynb\" target=\"_parent\"><img src=\"https://colab.research.google.com/assets/colab-badge.svg\" alt=\"Open In Colab\"/></a>"
      ]
    },
    {
      "cell_type": "code",
      "execution_count": null,
      "metadata": {
        "id": "qrQkuJQb_edY"
      },
      "outputs": [],
      "source": [
        "import random\n",
        "\n",
        "barreiras = 2\n",
        "colheitas = 4\n",
        "moradores = {\n",
        "    \"Ferreiro\": 10,\n",
        "    \"Mineiro\": 10,\n",
        "    \"Lenhador\": 4\n",
        "}\n",
        "\n",
        "print(\"O DIA COMEÇA... E OS GLOBOLINS ATACAM!\")\n",
        "invasoes = random.randint(2, 3)\n",
        "print(f\"Serão {invasoes} investidas ao longo do dia.\\n\")\n",
        "\n",
        "barreiras_quebradas = False\n",
        "\n",
        "for rodada in range(1, invasoes + 1):\n",
        "    goblins = random.randint(2, 5)\n",
        "    print(f\"\\n--- Investida {rodada}: {goblins} goblins invadindo! ---\")\n",
        "\n",
        "    for g in range(1, goblins + 1):\n",
        "        print(f\"\\nGlobolin {g} se aproxima...\")\n",
        "\n",
        "        if not barreiras_quebradas and barreiras > 0:\n",
        "            chance = random.randint(1, 100)\n",
        "            print(f\"A barreira tenta segurar... (chance {chance})\")\n",
        "\n",
        "            if chance <= 70:\n",
        "                print(\"A barreira segurou o globolin!\")\n",
        "                continue\n",
        "            else:\n",
        "                print(\"A barreira foi quebrada!\")\n",
        "                barreiras -= 1\n",
        "                if barreiras == 0:\n",
        "                    barreiras_quebradas = True\n",
        "                    print(\"Todas as barreiras foram destruídas! Os globolins vão passar direto!\")\n",
        "\n",
        "        resposta = input(\"Você quer enfrentar o globolin? (sim/nao): \").strip().lower()\n",
        "\n",
        "        if resposta == \"sim\":\n",
        "            print(\"Dinâmica com o professor vai acontecer!\")\n",
        "        else:\n",
        "            print(\"O globolin atacou a vila!\")\n",
        "            for nome in moradores:\n",
        "                moradores[nome] -= 2\n",
        "                print(f\"{nome} perdeu 2 de vida. Agora tem {moradores[nome]}.\")\n",
        "\n",
        "            chance_queima = random.randint(1, 100)\n",
        "            if chance_queima <= 5 and colheitas > 0:\n",
        "                colheitas -= 1\n",
        "                print(\"Uma plantação foi queimada!\")\n",
        "\n",
        "print(\"\\n=== FIM DO DIA ===\")\n",
        "for nome, vida in moradores.items():\n",
        "    print(f\"{nome}: {vida} de vida\")\n",
        "print(f\"Colheitas restantes: {colheitas}\")\n",
        "if barreiras_quebradas:\n",
        "    print(\"As barreiras foram destruídas.\")\n",
        "else:\n",
        "    print(f\"Barreiras restantes: {barreiras}\")\n"
      ]
    }
  ]
}